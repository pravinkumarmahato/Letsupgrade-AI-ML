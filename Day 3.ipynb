{
 "cells": [
  {
   "cell_type": "markdown",
   "metadata": {},
   "source": [
    "# Day 3 Assignment"
   ]
  },
  {
   "cell_type": "markdown",
   "metadata": {},
   "source": [
    "### Question 1 :\n",
    "Write a program to subtract two complex numbers in Python."
   ]
  },
  {
   "cell_type": "code",
   "execution_count": 3,
   "metadata": {},
   "outputs": [
    {
     "name": "stdout",
     "output_type": "stream",
     "text": [
      "(-2+5j)\n"
     ]
    }
   ],
   "source": [
    "a=3+7j\n",
    "b=5+2j\n",
    "Sub=a-b\n",
    "print(Sub)"
   ]
  },
  {
   "cell_type": "markdown",
   "metadata": {},
   "source": [
    "### Question 2 :\n",
    "Write a program to find the fourth root of a number.\n"
   ]
  },
  {
   "cell_type": "code",
   "execution_count": 5,
   "metadata": {},
   "outputs": [
    {
     "name": "stdout",
     "output_type": "stream",
     "text": [
      "8503056\n"
     ]
    }
   ],
   "source": [
    "a=54\n",
    "fourth_root=a**4\n",
    "print(fourth_root)"
   ]
  },
  {
   "cell_type": "markdown",
   "metadata": {},
   "source": [
    "### Question 3:\n",
    "Write a program to swap two numbers in Python with the help of a temporary variable."
   ]
  },
  {
   "cell_type": "code",
   "execution_count": 21,
   "metadata": {},
   "outputs": [
    {
     "name": "stdout",
     "output_type": "stream",
     "text": [
      "Value of a before swapping:  324\n",
      "Value of b before swapping:  698\n",
      "Value of a after swapping:  698\n",
      "Value of b after swapping:  324\n"
     ]
    }
   ],
   "source": [
    "a = 324\n",
    "b = 698\n",
    "print(\"Value of a before swapping: \", a)\n",
    "print(\"Value of b before swapping: \", b)\n",
    "temp = a\n",
    "a = b\n",
    "b = temp\n",
    "print(\"Value of a after swapping: \", a)\n",
    "print(\"Value of b after swapping: \", b)"
   ]
  },
  {
   "cell_type": "markdown",
   "metadata": {},
   "source": [
    "### Question 4:\n",
    "Write a program to swap two numbers in Python without using a temporary variable."
   ]
  },
  {
   "cell_type": "code",
   "execution_count": 22,
   "metadata": {},
   "outputs": [
    {
     "name": "stdout",
     "output_type": "stream",
     "text": [
      "Value of a before swapping:  45\n",
      "Value of b before swapping:  67\n",
      "Value of a after swapping:  67\n",
      "Value of b after swapping:  45\n"
     ]
    }
   ],
   "source": [
    "a = 45\n",
    "b = 67\n",
    "print(\"Value of a before swapping: \", a)\n",
    "print(\"Value of b before swapping: \", b)\n",
    "a, b = b, a\n",
    "print(\"Value of a after swapping: \", a)\n",
    "print(\"Value of b after swapping: \", b)"
   ]
  },
  {
   "cell_type": "markdown",
   "metadata": {},
   "source": [
    "### Question 5:\n",
    "Write a program to convert fahrenheit to kelvin and celsius both."
   ]
  },
  {
   "cell_type": "code",
   "execution_count": 20,
   "metadata": {},
   "outputs": [
    {
     "name": "stdout",
     "output_type": "stream",
     "text": [
      "Temprature in degree Celsius =  6.111111111111111\n",
      "Temprature in Kelvin =  279.2611111111111\n"
     ]
    }
   ],
   "source": [
    "Temp_in_F = 43\n",
    "Temp_in_C = (Temp_in_F - 32) * 5/9\n",
    "Temp_in_K = (Temp_in_F + 459.67) * 5/9\n",
    "print('Temprature in degree Celsius = ',Temp_in_C)\n",
    "print('Temprature in Kelvin = ',Temp_in_K)"
   ]
  },
  {
   "cell_type": "markdown",
   "metadata": {},
   "source": [
    "### Question 6:\n",
    "Write a program to demonstrate all the available data types in Python. Hint: Use type() function."
   ]
  },
  {
   "cell_type": "code",
   "execution_count": 18,
   "metadata": {},
   "outputs": [
    {
     "name": "stdout",
     "output_type": "stream",
     "text": [
      "<class 'int'>\n",
      "<class 'float'>\n",
      "<class 'str'>\n",
      "<class 'tuple'>\n",
      "<class 'list'>\n",
      "<class 'set'>\n"
     ]
    }
   ],
   "source": [
    "a=34\n",
    "b=23.34\n",
    "c=\"Hello\"\n",
    "d=(1,2,3,4,5,6,7)\n",
    "e=[1,2,3,4,5,6,7]\n",
    "f={1,2,3,4,5,6,7}\n",
    "print(type(a))\n",
    "print(type(b))\n",
    "print(type(c))\n",
    "print(type(d))\n",
    "print(type(e))\n",
    "print(type(f))"
   ]
  },
  {
   "cell_type": "markdown",
   "metadata": {},
   "source": [
    "### Question 7:\n",
    "Create Github profile and upload Githubs Assignment link."
   ]
  },
  {
   "cell_type": "markdown",
   "metadata": {},
   "source": [
    "1. Go to https://github.com/ in a web browser\n",
    "2. Creat your Account on github\n",
    "3. Creat your Profile on github\n",
    "4. Creat folder Named LetsUbgrade AIML\n",
    "5. Creat folder Name on assignment Days (ie. Day3,Day4,etc)\n",
    "6. Go to github, Click on New Repository\n",
    "7. Name the Repository as LetsUpgrade AI-ML\n",
    "8. Discription as Assignment\n",
    "9. Click on Public and Click Creat Repository\n",
    "10. We will see a LetsUpgrade AI-ML folder is Created\n",
    "11. Click on upload an existing file\n",
    "12. Go to folder containing assignment and drag and drop it to github\n",
    "13. And Click on Comite Changes\n",
    "14. Then visit the github and open the uploaded python file\n",
    "15. Copy the URL and past on Assignment Submission Form and Click Submit"
   ]
  },
  {
   "cell_type": "code",
   "execution_count": null,
   "metadata": {},
   "outputs": [],
   "source": []
  }
 ],
 "metadata": {
  "kernelspec": {
   "display_name": "Python 3",
   "language": "python",
   "name": "python3"
  },
  "language_info": {
   "codemirror_mode": {
    "name": "ipython",
    "version": 3
   },
   "file_extension": ".py",
   "mimetype": "text/x-python",
   "name": "python",
   "nbconvert_exporter": "python",
   "pygments_lexer": "ipython3",
   "version": "3.7.6"
  }
 },
 "nbformat": 4,
 "nbformat_minor": 4
}
