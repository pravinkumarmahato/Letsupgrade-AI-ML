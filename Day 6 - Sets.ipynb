{
 "cells": [
  {
   "cell_type": "code",
   "execution_count": 51,
   "metadata": {},
   "outputs": [],
   "source": [
    "st = {\"pravin\",1,2,3,5,4,34,5,2,23,55,6,\"AI-ML\",\"Python\",\"IoT\"}"
   ]
  },
  {
   "cell_type": "code",
   "execution_count": 52,
   "metadata": {},
   "outputs": [
    {
     "data": {
      "text/plain": [
       "{1, 2, 23, 3, 34, 4, 5, 55, 6, 'AI-ML', 'IoT', 'Python', 'pravin'}"
      ]
     },
     "execution_count": 52,
     "metadata": {},
     "output_type": "execute_result"
    }
   ],
   "source": [
    "st"
   ]
  },
  {
   "cell_type": "code",
   "execution_count": 53,
   "metadata": {},
   "outputs": [
    {
     "data": {
      "text/plain": [
       "'IoT'"
      ]
     },
     "execution_count": 53,
     "metadata": {},
     "output_type": "execute_result"
    }
   ],
   "source": [
    "st.pop()"
   ]
  },
  {
   "cell_type": "code",
   "execution_count": 54,
   "metadata": {},
   "outputs": [
    {
     "data": {
      "text/plain": [
       "{1, 2, 23, 3, 34, 4, 5, 55, 6, 'AI-ML', 'Python', 'pravin'}"
      ]
     },
     "execution_count": 54,
     "metadata": {},
     "output_type": "execute_result"
    }
   ],
   "source": [
    "st"
   ]
  },
  {
   "cell_type": "code",
   "execution_count": 55,
   "metadata": {},
   "outputs": [],
   "source": [
    "st.remove(\"pravin\")"
   ]
  },
  {
   "cell_type": "code",
   "execution_count": 56,
   "metadata": {},
   "outputs": [
    {
     "data": {
      "text/plain": [
       "{1, 2, 23, 3, 34, 4, 5, 55, 6, 'AI-ML', 'Python'}"
      ]
     },
     "execution_count": 56,
     "metadata": {},
     "output_type": "execute_result"
    }
   ],
   "source": [
    "st"
   ]
  },
  {
   "cell_type": "code",
   "execution_count": 57,
   "metadata": {},
   "outputs": [],
   "source": [
    "st.add(\"LetsUpgrade\") "
   ]
  },
  {
   "cell_type": "code",
   "execution_count": 58,
   "metadata": {},
   "outputs": [
    {
     "data": {
      "text/plain": [
       "{1, 2, 23, 3, 34, 4, 5, 55, 6, 'AI-ML', 'LetsUpgrade', 'Python'}"
      ]
     },
     "execution_count": 58,
     "metadata": {},
     "output_type": "execute_result"
    }
   ],
   "source": [
    "st"
   ]
  },
  {
   "cell_type": "code",
   "execution_count": 59,
   "metadata": {},
   "outputs": [],
   "source": [
    "st.update([10, 11])"
   ]
  },
  {
   "cell_type": "code",
   "execution_count": 60,
   "metadata": {},
   "outputs": [
    {
     "data": {
      "text/plain": [
       "{1, 10, 11, 2, 23, 3, 34, 4, 5, 55, 6, 'AI-ML', 'LetsUpgrade', 'Python'}"
      ]
     },
     "execution_count": 60,
     "metadata": {},
     "output_type": "execute_result"
    }
   ],
   "source": [
    "st"
   ]
  },
  {
   "cell_type": "code",
   "execution_count": 61,
   "metadata": {},
   "outputs": [],
   "source": [
    "st1 = {\"Karan\", \"Arjun\",2, 4, 5, 6}\n",
    "st2 = {\"Jay\", \"Idrish\", \"Archil\",7, 8, 9, 10}"
   ]
  },
  {
   "cell_type": "code",
   "execution_count": 62,
   "metadata": {
    "scrolled": true
   },
   "outputs": [
    {
     "name": "stdout",
     "output_type": "stream",
     "text": [
      "st U st1 :  {1, 2, 3, 4, 5, 6, 'AI-ML', 'Python', 10, 11, 'Arjun', 23, 34, 'Karan', 'LetsUpgrade', 55}\n"
     ]
    }
   ],
   "source": [
    "print(\"st U st1 : \", st.union(st1)) "
   ]
  },
  {
   "cell_type": "code",
   "execution_count": 63,
   "metadata": {},
   "outputs": [
    {
     "name": "stdout",
     "output_type": "stream",
     "text": [
      "st U st1 :  {1, 2, 3, 4, 5, 6, 'AI-ML', 'Python', 10, 11, 'Arjun', 23, 34, 'Karan', 'LetsUpgrade', 55}\n"
     ]
    }
   ],
   "source": [
    "print(\"st U st1 : \", st|st1)"
   ]
  },
  {
   "cell_type": "code",
   "execution_count": 64,
   "metadata": {},
   "outputs": [
    {
     "name": "stdout",
     "output_type": "stream",
     "text": [
      "st U st1 U st2 : {1, 2, 3, 4, 5, 6, 'AI-ML', 'Python', 7, 10, 11, 8, 9, 'Arjun', 'Archil', 23, 34, 'Karan', 'LetsUpgrade', 'Jay', 55, 'Idrish'}\n"
     ]
    }
   ],
   "source": [
    "print(\"st U st1 U st2 :\", st.union(st1,st2))"
   ]
  },
  {
   "cell_type": "code",
   "execution_count": 65,
   "metadata": {},
   "outputs": [
    {
     "name": "stdout",
     "output_type": "stream",
     "text": [
      "st U st1 U st2 : {1, 2, 3, 4, 5, 6, 'AI-ML', 'Python', 7, 10, 11, 8, 9, 'Arjun', 'Archil', 23, 34, 'Karan', 'LetsUpgrade', 'Jay', 55, 'Idrish'}\n"
     ]
    }
   ],
   "source": [
    "print(\"st U st1 U st2 :\", st|st1|st2)"
   ]
  },
  {
   "cell_type": "code",
   "execution_count": 66,
   "metadata": {},
   "outputs": [
    {
     "name": "stdout",
     "output_type": "stream",
     "text": [
      "st - st1 :  {'AI-ML', 1, 34, 3, 'Python', 'LetsUpgrade', 10, 11, 23, 55}\n"
     ]
    }
   ],
   "source": [
    "print(\"st - st1 : \", st.difference(st1)) "
   ]
  },
  {
   "cell_type": "code",
   "execution_count": 67,
   "metadata": {},
   "outputs": [
    {
     "name": "stdout",
     "output_type": "stream",
     "text": [
      "st - st1 :  {'AI-ML', 1, 34, 3, 'Python', 'LetsUpgrade', 10, 11, 23, 55}\n"
     ]
    }
   ],
   "source": [
    "print(\"st - st1 : \", st - st1)"
   ]
  },
  {
   "cell_type": "code",
   "execution_count": 68,
   "metadata": {},
   "outputs": [
    {
     "name": "stdout",
     "output_type": "stream",
     "text": [
      "st & st1 :  {2, 4, 5, 6}\n"
     ]
    }
   ],
   "source": [
    "print(\"st & st1 : \", st & st1)"
   ]
  },
  {
   "cell_type": "code",
   "execution_count": 69,
   "metadata": {},
   "outputs": [
    {
     "name": "stdout",
     "output_type": "stream",
     "text": [
      "st or st1 :  {1, 2, 3, 4, 5, 34, 6, 'AI-ML', 'Python', 'LetsUpgrade', 10, 11, 55, 23}\n"
     ]
    }
   ],
   "source": [
    "print(\"st or st1 : \", st or st1) "
   ]
  },
  {
   "cell_type": "code",
   "execution_count": null,
   "metadata": {},
   "outputs": [],
   "source": []
  }
 ],
 "metadata": {
  "kernelspec": {
   "display_name": "Python 3",
   "language": "python",
   "name": "python3"
  },
  "language_info": {
   "codemirror_mode": {
    "name": "ipython",
    "version": 3
   },
   "file_extension": ".py",
   "mimetype": "text/x-python",
   "name": "python",
   "nbconvert_exporter": "python",
   "pygments_lexer": "ipython3",
   "version": "3.7.6"
  }
 },
 "nbformat": 4,
 "nbformat_minor": 4
}
